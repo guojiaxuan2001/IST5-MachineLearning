{
 "cells": [
  {
   "cell_type": "code",
   "execution_count": 2,
   "metadata": {},
   "outputs": [
    {
     "name": "stdout",
     "output_type": "stream",
     "text": [
      "[[0 1]\n",
      " [1 2]]\n"
     ]
    }
   ],
   "source": [
    "from sklearn.metrics import confusion_matrix\n",
    "\n",
    "y_actual = [0, 1, 1, 1]\n",
    "y_prediction = [1, 1, 1, 0]\n",
    "\n",
    "CM = confusion_matrix (y_actual, y_prediction)\n",
    "print(CM)"
   ]
  },
  {
   "cell_type": "code",
   "execution_count": 4,
   "metadata": {},
   "outputs": [
    {
     "name": "stdout",
     "output_type": "stream",
     "text": [
      "The predicted class of: [2, 4, 6]is: 0\n",
      "The predicted class of: [1, 10, 3]is: 1\n",
      "The predicted class of: [3, 5, 4]is: 1\n"
     ]
    }
   ],
   "source": [
    "from sklearn import svm\n",
    "\n",
    "X_train = [[0, 4, 6], [1, 9, 5], [2, 7, 3], [3, 7, 3], [3, 5, 3], [8, 3, 5]]\n",
    "Y_train = [0, 1, 1, 0, 1, 0]\n",
    "X_test = [[2, 4, 6], [1, 10, 3], [3, 5, 4]]\n",
    "Y_test = [0, 1, 0]\n",
    "\n",
    "classifier = svm.SVC()\n",
    "classifier.fit(X_train, Y_train)\n",
    "Y_predicted = classifier.predict(X_test)\n",
    "\n",
    "for i in range(len(X_test)):\n",
    "    print(\"The predicted class of: \" + str(X_test[i]) + \"is: \" + str(Y_predicted[i])) \n"
   ]
  },
  {
   "cell_type": "code",
   "execution_count": null,
   "metadata": {},
   "outputs": [],
   "source": [
    "from sklearn import svm\n",
    "from sklearn import metrics\n",
    "\n",
    "X_train = [[0, 4, 6], [1, 9, 5], [2, 7, 3], [3, 7, 3], [3, 5, 3], [8, 3, 5]]\n",
    "Y_train = [0, 1, 1, 0, 1, 0]\n",
    "X_test = [[2, 4, 6], [1, 10, 3], [3, 5, 4]]\n",
    "Y_test = [0, 1, 0]\n",
    "\n",
    "classifier = svm.SVC()\n",
    "classifier.fit(X_train, Y_train)\n",
    "Y_predicted = classifier.predict(X_test)\n",
    "\n",
    "for i in range(len(X_test)):\n",
    "    print(\"The predicted class of: \" + str(X_test[i]) + \"is: \" + str(Y_predicted[i])) \n",
    "\n",
    "conf_mat = metrics.confusion_matrix(Y_test, Y_predicted)\n",
    "TN, FP, FN, TP = conf_mat.ravel()\n",
    "print(\"Confusion Matrix: \", conf_mat)\n",
    "print(\"TN, FP, FN, TP: \", TN, FP, FN, TP)\n",
    "print(\"Accuracy = \", metrics.accuracy_score(Y_test, Y_predicted))\n"
   ]
  },
  {
   "cell_type": "markdown",
   "metadata": {},
   "source": [
    ".ravel() 用来把 多维数组拉平成一维数组，返回的是原数组的视图（view），不复制数据。"
   ]
  },
  {
   "cell_type": "code",
   "execution_count": null,
   "metadata": {},
   "outputs": [],
   "source": []
  }
 ],
 "metadata": {
  "kernelspec": {
   "display_name": ".venv",
   "language": "python",
   "name": "python3"
  },
  "language_info": {
   "codemirror_mode": {
    "name": "ipython",
    "version": 3
   },
   "file_extension": ".py",
   "mimetype": "text/x-python",
   "name": "python",
   "nbconvert_exporter": "python",
   "pygments_lexer": "ipython3",
   "version": "3.12.3"
  }
 },
 "nbformat": 4,
 "nbformat_minor": 2
}
